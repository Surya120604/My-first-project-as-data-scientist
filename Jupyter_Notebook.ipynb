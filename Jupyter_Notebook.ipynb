{
 "cells": [
  {
   "cell_type": "markdown",
   "metadata": {},
   "source": [
    "# H1 : Data Science Tools and Ecosystem"
   ]
  },
  {
   "cell_type": "markdown",
   "metadata": {},
   "source": [
    "In this notebook, Data Science Tools and Ecosystem are summarized. Data science thrives on a vast ecosystem of tools and technologies. This includes programming languages like Python and R, libraries like NumPy and TensorFlow, platforms like Databricks and Snowflake, and cloud solutions like Azure Synapse and Knime Analytics. This diverse landscape allows data scientists to extract, wrangle, analyze, and visualize data for informed decision-making. Whether building commercial solutions or open-source projects, the data science ecosystem empowers individuals and organizations to unlock the power of data."
   ]
  },
  {
   "cell_type": "markdown",
   "metadata": {},
   "source": [
    "Some of the popular languages that Data Scientists use are :\n",
    "Python : The most popular choice for data science due to its ease of use, extensive libraries like NumPy and Pandas, and vast community support.\n",
    "     R : A powerful language specifically designed for statistical analysis and data visualization, favored for academic research and advanced statistics.\n",
    "    SQL: Essential for querying and manipulating data stored in relational databases, fundamental for data extraction and preprocessing.\n",
    "  Java : Widely used in industry for its scalability and performance, particularly valuable for large-scale data processing and distributed computing.\n",
    " Julia : A rising star, praised for its speed, efficiency, and powerful scientific computing capabilities.\n",
    " Scala : A functional language gaining traction in data science, ideal for working with big data and complex systems."
   ]
  },
  {
   "cell_type": "markdown",
   "metadata": {},
   "source": [
    "Some of the commonly used libraries used by Data Scientists include :\n",
    "     NumPy : Provides efficient multidimensional arrays and mathematical operations, foundational for data manipulation and analysis.\n",
    "    Pandas : Offers powerful data structures (Series and DataFrames) for working with tabular data, including loading, cleaning, transforming, and merging.\n",
    "Matplotlib : The most popular library for data visualization in Python, offering various plot types and functionalities.\n",
    "   Seaborn : A high-level interface built on top of Matplotlib for building statistical data visualizations with improved aesthetics."
   ]
  },
  {
   "cell_type": "markdown",
   "metadata": {},
   "source": [
    "Data Science Tools\n",
    "LANGUAGES        | ABOUT |\n",
    "| ---------------| ------ |\n",
    "PyCharm          | A powerful IDE with comprehensive features for Python development. |\n",
    "Jupyter Notebook | An interactive web-based environment for writing and running code, visualizing data, and creating documents. |\n",
    "RStudio          | An integrated development environment (IDE) specifically designed for the R programming language. |"
   ]
  },
  {
   "cell_type": "markdown",
   "metadata": {},
   "source": [
    "Below are a few examples of evaluating arithmetic expressions in Python:\n",
    "### H3 : 3+5\n",
    "### H3 : 3*5\n",
    "### H3 : 5-3"
   ]
  },
  {
   "cell_type": "code",
   "execution_count": 1,
   "metadata": {
    "tags": []
   },
   "outputs": [
    {
     "data": {
      "text/plain": [
       "17"
      ]
     },
     "execution_count": 1,
     "metadata": {},
     "output_type": "execute_result"
    }
   ],
   "source": [
    "(3*4)+5"
   ]
  },
  {
   "cell_type": "code",
   "execution_count": 9,
   "metadata": {
    "tags": []
   },
   "outputs": [
    {
     "name": "stdin",
     "output_type": "stream",
     "text": [
      " 333\n"
     ]
    },
    {
     "name": "stdout",
     "output_type": "stream",
     "text": [
      "5 Hours\n"
     ]
    }
   ],
   "source": [
    "n=int(input())\n",
    "print(n//60,end=' ') \n",
    "print(\"Hours\")"
   ]
  },
  {
   "cell_type": "markdown",
   "metadata": {},
   "source": [
    "**Objectives:**\n",
    "popular languages for Data Science:\n",
    "1. Python : Currently the most popular language for data science.\n",
    "2.      R : Traditionally popular for statistics and data visualization.\n",
    "3.     SQL: Essential for data extraction and manipulation.\n",
    "4.   Java : Popular in industry.\n",
    "5.  Julia : A rising star for scientific computing and data science.\n"
   ]
  },
  {
   "cell_type": "markdown",
   "metadata": {},
   "source": [
    "## H2 : AUTHOR\n",
    "        SURYA KUMAR R"
   ]
  }
 ],
 "metadata": {
  "kernelspec": {
   "display_name": "Python",
   "language": "python",
   "name": "conda-env-python-py"
  },
  "language_info": {
   "codemirror_mode": {
    "name": "ipython",
    "version": 3
   },
   "file_extension": ".py",
   "mimetype": "text/x-python",
   "name": "python",
   "nbconvert_exporter": "python",
   "pygments_lexer": "ipython3",
   "version": "3.7.12"
  }
 },
 "nbformat": 4,
 "nbformat_minor": 4
}
